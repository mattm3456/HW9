{
 "cells": [
  {
   "cell_type": "code",
   "execution_count": 9,
   "id": "82c1f77e-4622-4978-90cd-37f50d898ec5",
   "metadata": {},
   "outputs": [
    {
     "data": {
      "text/plain": [
       "1"
      ]
     },
     "execution_count": 9,
     "metadata": {},
     "output_type": "execute_result"
    }
   ],
   "source": [
    "from booklover.booklover import BookLover\n",
    "book = BookLover(\"Matt\",\"xkv3na@virginia.edu\",\"Mystery\")\n",
    "book.add_book(\"Jurassic Park\", 5)\n",
    "book.num_books_read()"
   ]
  },
  {
   "cell_type": "code",
   "execution_count": null,
   "id": "d0e8d43a-615b-454c-b83d-418e14ebe571",
   "metadata": {},
   "outputs": [],
   "source": []
  }
 ],
 "metadata": {
  "kernelspec": {
   "display_name": "Python 3 (ipykernel)",
   "language": "python",
   "name": "python3"
  },
  "language_info": {
   "codemirror_mode": {
    "name": "ipython",
    "version": 3
   },
   "file_extension": ".py",
   "mimetype": "text/x-python",
   "name": "python",
   "nbconvert_exporter": "python",
   "pygments_lexer": "ipython3",
   "version": "3.9.12"
  }
 },
 "nbformat": 4,
 "nbformat_minor": 5
}
