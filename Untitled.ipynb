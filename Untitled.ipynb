{
 "cells": [
  {
   "cell_type": "code",
   "execution_count": 1,
   "id": "82c1f77e-4622-4978-90cd-37f50d898ec5",
   "metadata": {},
   "outputs": [
    {
     "name": "stdout",
     "output_type": "stream",
     "text": [
      "Package successful\n"
     ]
    },
    {
     "name": "stderr",
     "output_type": "stream",
     "text": [
      "/Users/mattmanner/Desktop/CodesGalore/GitHub/HW9/booklover/booklover.py:24: FutureWarning: elementwise comparison failed; returning scalar instead, but in the future will perform elementwise comparison\n",
      "  if book_name in self.book_list['book_name'].unique():\n",
      "/Users/mattmanner/Desktop/CodesGalore/GitHub/HW9/booklover/booklover.py:26: FutureWarning: elementwise comparison failed; returning scalar instead, but in the future will perform elementwise comparison\n",
      "  if book_name not in self.book_list['book_name'].unique():\n"
     ]
    },
    {
     "data": {
      "text/plain": [
       "1"
      ]
     },
     "execution_count": 1,
     "metadata": {},
     "output_type": "execute_result"
    }
   ],
   "source": [
    "from booklover.booklover import BookLover\n",
    "book = BookLover(\"Matt\",\"xkv3na@virginia.edu\",\"Mystery\")\n",
    "book.add_book(\"Jurassic Park\", 5)\n",
    "book.num_books_read()"
   ]
  },
  {
   "cell_type": "code",
   "execution_count": null,
   "id": "d0e8d43a-615b-454c-b83d-418e14ebe571",
   "metadata": {},
   "outputs": [],
   "source": []
  }
 ],
 "metadata": {
  "kernelspec": {
   "display_name": "Python 3 (ipykernel)",
   "language": "python",
   "name": "python3"
  },
  "language_info": {
   "codemirror_mode": {
    "name": "ipython",
    "version": 3
   },
   "file_extension": ".py",
   "mimetype": "text/x-python",
   "name": "python",
   "nbconvert_exporter": "python",
   "pygments_lexer": "ipython3",
   "version": "3.9.12"
  }
 },
 "nbformat": 4,
 "nbformat_minor": 5
}
